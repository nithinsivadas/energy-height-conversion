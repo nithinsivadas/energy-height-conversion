{
 "cells": [
  {
   "cell_type": "markdown",
   "metadata": {},
   "source": [
    "Here I attempt to use the aoe2.net api to extract the game lengths of online games."
   ]
  },
  {
   "cell_type": "code",
   "execution_count": 6,
   "metadata": {},
   "outputs": [
    {
     "name": "stdout",
     "output_type": "stream",
     "text": [
      "\n"
     ]
    }
   ],
   "source": [
    "api = 'https://aoe2.net';"
   ]
  },
  {
   "cell_type": "code",
   "execution_count": 302,
   "metadata": {},
   "outputs": [
    {
     "name": "stdout",
     "output_type": "stream",
     "text": [
      "\n"
     ]
    }
   ],
   "source": [
    "url = [api '/api/strings' '?game=aoe2hd'];\n",
    "options = weboptions('ContentType','json');\n",
    "info =  webread(url,options);"
   ]
  },
  {
   "cell_type": "code",
   "execution_count": 214,
   "metadata": {},
   "outputs": [
    {
     "name": "stdout",
     "output_type": "stream",
     "text": [
      "Created file 'C:\\Users\\nithin\\Documents\\GitHub\\energy-height-conversion\\Tools\\Routines\\FHI\\get_AOE_data.m'.\n"
     ]
    }
   ],
   "source": [
    "%%file get_AOE_data.m\n",
    "function data=get_AOE_data(startTime, endTime)\n",
    "    api = 'https://aoe2.net';\n",
    "    startT = posixtime(startTime);\n",
    "    endT   = posixtime(endTime);\n",
    "    iTime = startT;\n",
    "    k = 1;\n",
    "    while iTime<endT\n",
    "    url = [api '/api/matches' '?game=aoe2de&count=1000&since=',num2str(iTime)];\n",
    "    [~,temp1] = system(['curl -s \"' url '\"']);\n",
    "    temp = jsondecode(temp1);\n",
    "    %options = weboptions('ContentType','json');\n",
    "    %temp = webread(url,options);\n",
    "    l = length(temp);\n",
    "    data(k:1:(k-1)+l) =  temp;\n",
    "    k = k+l;\n",
    "    iTime = data(end).finished;\n",
    "    end\n",
    "end"
   ]
  },
  {
   "cell_type": "code",
   "execution_count": 252,
   "metadata": {},
   "outputs": [
    {
     "name": "stdout",
     "output_type": "stream",
     "text": [
      "\n"
     ]
    }
   ],
   "source": [
    "data1 = get_AOE_data(datetime('29-Nov-2020','ConvertFrom','DD-mmm-YYYY'),datetime('29-Nov-2020 3:00','ConvertFrom','DD-mmm-YYYY HH:MM'));"
   ]
  },
  {
   "cell_type": "code",
   "execution_count": 295,
   "metadata": {},
   "outputs": [
    {
     "name": "stdout",
     "output_type": "stream",
     "text": [
      "\n"
     ]
    }
   ],
   "source": [
    "TT = struct2table(data1);\n",
    "TT.leaderboard_id(cellfun(@isempty,TT.leaderboard_id))={nan};\n",
    "TT.leaderboard_id = cell2mat(TT.leaderboard_id);\n",
    "TT.duration = datetime(TT.finished,'ConvertFrom','posix')-datetime(TT.started,'ConvertFrom','posix');"
   ]
  },
  {
   "cell_type": "code",
   "execution_count": 304,
   "metadata": {},
   "outputs": [
    {
     "name": "stdout",
     "output_type": "stream",
     "text": [
      "\n"
     ]
    },
    {
     "data": {
      "image/png": "[encoded data removed]",
      "text/plain": [
       "<IPython.core.display.Image object>"
      ]
     },
     "metadata": {},
     "output_type": "display_data"
    }
   ],
   "source": [
    "%%plot inline\n",
    "histogram(TT.duration(TT.num_players==2 & TT.leaderboard_id==3));\n",
    "xlabel('Game Duration');\n",
    "ylabel('Number of games');"
   ]
  }
 ],
 "metadata": {
  "kernelspec": {
   "display_name": "Matlab",
   "language": "matlab",
   "name": "matlab"
  },
  "language_info": {
   "codemirror_mode": "octave",
   "file_extension": ".m",
   "help_links": [
    {
     "text": "MetaKernel Magics",
     "url": "https://metakernel.readthedocs.io/en/latest/source/README.html"
    }
   ],
   "mimetype": "text/x-octave",
   "name": "matlab",
   "version": "0.16.11"
  }
 },
 "nbformat": 4,
 "nbformat_minor": 4
}
