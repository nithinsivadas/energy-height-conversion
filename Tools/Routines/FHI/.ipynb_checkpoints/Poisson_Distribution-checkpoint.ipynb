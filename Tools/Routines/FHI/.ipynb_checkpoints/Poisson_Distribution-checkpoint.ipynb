{
 "cells": [
  {
   "cell_type": "markdown",
   "metadata": {},
   "source": [
    "There are three random variables that can be used to describe the Poisson process. \n",
    "\n",
    "$X_{i}$ - denotes the inter-arrival time, time between the $(i-1)^{st}$ and $i^{th}$ arrival\n",
    "\n",
    "$T_{n}$ - denotes the time of the $n^{th}$ arrival\n",
    "\n",
    "The above two random variables are associated with each other as follows: \n",
    "\n",
    "$$T_n = \\sum_{i=1}^{n} X_i, \\ \\ n \\in \\mathbb{N} $$\n",
    "\n",
    "$(T$ is the partical sum process associated with $X)$\n",
    "\n",
    "$$X_n = T_n - T{n-1}, \\ \\ n \\in \\mathbb{N}_{+} $$\n",
    "\n",
    "$N_{t}$ - denote the number of arrivals in $(0,t]$ for $t\\in[0,\\inf]$, it is the counting process. \n",
    "\n",
    "The counting process $N$ and the arrival time process $T$ are inverses of one another\n",
    "\n",
    "$$T_n = \\min\\{t \\geq 0 : N_t = n\\}, \\ \\ n \\in \\mathbb{N} $$\n",
    "$$N_t = \\max\\{n \\in \\mathbb{N} : T_n \\leq t\\}, \\ \\ t \\in [0,\\inf) $$\n"
   ]
  },
  {
   "cell_type": "code",
   "execution_count": 1,
   "metadata": {},
   "outputs": [
    {
     "name": "stdout",
     "output_type": "stream",
     "text": [
      "\n"
     ]
    }
   ],
   "source": [
    "set(0,'defaulttextInterpreter','latex') "
   ]
  },
  {
   "cell_type": "markdown",
   "metadata": {},
   "source": [
    "Running an experiment where events occur according to an underlying uniformly and identically distributied random number, with probability $p$. "
   ]
  },
  {
   "cell_type": "code",
   "execution_count": 3,
   "metadata": {},
   "outputs": [
    {
     "name": "stdout",
     "output_type": "stream",
     "text": [
      "Created file 'C:\\Users\\nithin\\Documents\\GitHub\\energy-height-conversion\\Tools\\Routines\\FHI\\coinflip.m'.\n"
     ]
    }
   ],
   "source": [
    "%%file coinflip.m\n",
    "\n",
    "function y=coinflip(t,p,repeat)\n",
    "\n",
    "% Running an experiment where events occur according to an underlying uniformly \n",
    "% distributied random number, such that the probability of occurence is $p$. \n",
    "%\n",
    "% Input: \n",
    "% t      - is the time\n",
    "% p      - is the probability that an event occurs at this time instant\n",
    "% repeat - repeat the experiment 'repeat' number of times\n",
    "%          [default: 1]\n",
    "% Output: \n",
    "% y       - is a [TxRepeat] matrix showing the status of the event (success/failure) \n",
    "%           at each time instant (row), for each experiment (column)\n",
    "\n",
    "    if nargin < 3\n",
    "        repeat = 1;\n",
    "    end\n",
    "        \n",
    "    n = length(t);\n",
    "    y = zeros(n,repeat);\n",
    "    x = rand(n,repeat);\n",
    "    y(x<p) = 1;\n",
    "end"
   ]
  },
  {
   "cell_type": "markdown",
   "metadata": {},
   "source": [
    "Defining $p$ as the probability of the occurence of an event\n",
    "\n",
    "Repeat the experiment 'repeat' number of times"
   ]
  },
  {
   "cell_type": "code",
   "execution_count": 89,
   "metadata": {},
   "outputs": [
    {
     "name": "stdout",
     "output_type": "stream",
     "text": [
      "\n"
     ]
    }
   ],
   "source": [
    "maxt = 5;\n",
    "p = 0.2; % Probability that a trial will be successfull\n",
    "nTrial= 40*maxt;\n",
    "t = linspace(0,maxt,nTrial);\n",
    "r = p*nTrial/max(t); %rate\n",
    "repeat = 10000;\n",
    "y = coinflip(t,p,repeat);"
   ]
  },
  {
   "cell_type": "markdown",
   "metadata": {},
   "source": [
    "Generate the random number $N_t$, number of arrivals in time $\\max(t)$"
   ]
  },
  {
   "cell_type": "code",
   "execution_count": 90,
   "metadata": {},
   "outputs": [
    {
     "name": "stdout",
     "output_type": "stream",
     "text": [
      "\n"
     ]
    },
    {
     "data": {
      "image/png": "[encoded data removed]",
      "text/plain": [
       "<IPython.core.display.Image object>"
      ]
     },
     "metadata": {},
     "output_type": "display_data"
    }
   ],
   "source": [
    "N = sum(y,1);\n",
    "%plot inline\n",
    "figure;\n",
    "Nh = histogram(N,'Normalization','pdf');\n",
    "xlabel('Number of Events $n$ within $t$');\n",
    "ylabel('PDF of $f(n)$');\n",
    "title('Poisson Distribution');\n",
    "text(0.75,0.75,{['p \\ \\ \\ \\ \\ \\ = ',num2str(p)],['nTrial = ',num2str(nTrial)],['nExp \\ = ',num2str(repeat,'%10.1e\\n')]},'Units','normalized'); \n"
   ]
  },
  {
   "cell_type": "code",
   "execution_count": 91,
   "metadata": {},
   "outputs": [
    {
     "name": "stdout",
     "output_type": "stream",
     "text": [
      "\n"
     ]
    }
   ],
   "source": [
    "interArrivalTimes = [];\n",
    "for i=1:1:size(y,2)\n",
    "    yi = y(:,i);\n",
    "    eventTimes = t(yi>0);\n",
    "    interArrivalTimes = [interArrivalTimes, diff(eventTimes)];\n",
    "end\n"
   ]
  },
  {
   "cell_type": "code",
   "execution_count": 96,
   "metadata": {},
   "outputs": [
    {
     "name": "stdout",
     "output_type": "stream",
     "text": [
      "\n"
     ]
    },
    {
     "data": {
      "image/png": "[encoded data removed]",
      "text/plain": [
       "<IPython.core.display.Image object>"
      ]
     },
     "metadata": {},
     "output_type": "display_data"
    }
   ],
   "source": [
    "%plot inline\n",
    "Xh =  histogram(interArrivalTimes,'Normalization','pdf','BinEdges',linspace(0,5,100));\n",
    "Xy = Xh.Values;\n",
    "Xx =  Xh.BinEdges(1:end-1)+Xh.BinWidth/2;\n",
    "fitfun = fittype(@(a,x) a.*exp(-a.*x));\n",
    "r0 = 0.1;\n",
    "[Xy_fit, gof] = fit(Xx',Xy',fitfun,'StartPoint',r0);\n",
    "hold on;\n",
    "plot(Xx,Xy_fit(Xx),'g');\n",
    "f_exp = @(r,t) r.*exp(-r.*t);\n",
    "hold on;\n",
    "plot(t,f_exp(r,t),'r');\n",
    "xlim([0 max(t)/4]);\n",
    "legend('Empirical pdf of $X$, $f(t)$','Fit',['$f(t) =$',num2str(r),'exp(-',num2str(r),'$t$)'],'Interpreter','latex');\n",
    "text(0.6,0.75,{['$p$ \\ \\ \\ \\ \\ \\  = ',num2str(p)],['nTrial = ',num2str(length(t))], ['$r \\ \\ \\ \\ \\ \\  = \\ $',num2str(r)]},'Units','normalized'); \n",
    "\n",
    "xlabel('Inter-Arrival Times X [seconds]');\n",
    "ylabel('PDF of X: f(t)')"
   ]
  },
  {
   "cell_type": "code",
   "execution_count": 94,
   "metadata": {},
   "outputs": [
    {
     "name": "stdout",
     "output_type": "stream",
     "text": [
      "\n",
      "Xy_fit = \n",
      "\n",
      "     General model:\n",
      "     Xy_fit(x) = a.*exp(-a.*x)\n",
      "     Coefficients (with 95% confidence bounds):\n",
      "       a =       9.283  (9.152, 9.414)\n",
      "\n"
     ]
    }
   ],
   "source": [
    "Xy_fit"
   ]
  },
  {
   "cell_type": "code",
   "execution_count": 93,
   "metadata": {},
   "outputs": [
    {
     "name": "stdout",
     "output_type": "stream",
     "text": [
      "\n",
      "ans =\n",
      "\n",
      "    7.9949\n",
      "\n",
      "\n"
     ]
    }
   ],
   "source": [
    "mean(N)/5"
   ]
  },
  {
   "cell_type": "code",
   "execution_count": null,
   "metadata": {},
   "outputs": [],
   "source": []
  }
 ],
 "metadata": {
  "kernelspec": {
   "display_name": "Matlab",
   "language": "matlab",
   "name": "matlab"
  },
  "language_info": {
   "codemirror_mode": "octave",
   "file_extension": ".m",
   "help_links": [
    {
     "text": "MetaKernel Magics",
     "url": "https://metakernel.readthedocs.io/en/latest/source/README.html"
    }
   ],
   "mimetype": "text/x-octave",
   "name": "matlab",
   "version": "0.16.11"
  }
 },
 "nbformat": 4,
 "nbformat_minor": 2
}
