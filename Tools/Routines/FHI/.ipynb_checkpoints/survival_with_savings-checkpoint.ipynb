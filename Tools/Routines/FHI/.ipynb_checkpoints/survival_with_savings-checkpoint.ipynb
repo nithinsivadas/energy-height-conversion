{
 "cells": [
  {
   "cell_type": "code",
   "execution_count": 1,
   "metadata": {},
   "outputs": [],
   "source": [
    "\"\"\"Survival With Savings\"\"\"\n",
    "\n",
    "from scipy.interpolate import interp1d\n",
    "import matplotlib.pyplot as plt\n",
    "import numpy as np"
   ]
  },
  {
   "cell_type": "code",
   "execution_count": 2,
   "metadata": {},
   "outputs": [
    {
     "name": "stdout",
     "output_type": "stream",
     "text": [
      "Monthly Expense = 2800 USD\n"
     ]
    }
   ],
   "source": [
    "Rent= 1600\n",
    "Utilities = 200\n",
    "Groceries = 500\n",
    "Transportation = 300\n",
    "Vacation = 0\n",
    "Shopping = 200\n",
    "Hospital = 0\n",
    "Expense = Rent + Utilities + Groceries + Transportation + Vacation + Shopping + Hospital\n",
    "print(''.join(['Monthly Expense = ', str(Expense), ' USD']))"
   ]
  },
  {
   "cell_type": "code",
   "execution_count": 3,
   "metadata": {},
   "outputs": [],
   "source": [
    "# Monthly Expense in a Cheaper Town\n",
    "Expense2 = 2800\n",
    "\n",
    "# Rates\n",
    "Tax =  28\n",
    "Capital_Gains_Tax = 15\n",
    "Inflation = 2.46\n",
    "Savings_Return_Rate = 10 \n",
    "\n",
    "# Initial Savings\n",
    "\n",
    "Initial_Savings = 132000\n",
    "parentsHome = 0\n",
    "\n",
    "# Yearly Income\n",
    "\n",
    "Income = 110000\n",
    "Income_Increment_Rate = 3\n"
   ]
  },
  {
   "cell_type": "code",
   "execution_count": 8,
   "metadata": {},
   "outputs": [
    {
     "data": {
      "text/plain": [
       "<matplotlib.legend.Legend at 0x1cad36f1eb0>"
      ]
     },
     "execution_count": 8,
     "metadata": {},
     "output_type": "execute_result"
    },
    {
     "data": {
      "image/png": "[encoded data removed]",
      "text/plain": [
       "<Figure size 432x288 with 1 Axes>"
      ]
     },
     "metadata": {
      "needs_background": "light"
     },
     "output_type": "display_data"
    }
   ],
   "source": [
    "# Calculation\n",
    "\n",
    "Stop_Work_Year = 6\n",
    "iSavings = np.zeros(100)\n",
    "iSavings[0] = Initial_Savings\n",
    "iExp = np.zeros(100)\n",
    "iIncome = np.zeros(100)\n",
    "iSavings_Interest = np.zeros(100)\n",
    "\n",
    "for i in range(100):\n",
    "    if i <= Stop_Work_Year:\n",
    "        iIncome[i] = Income * (1 + (i - 1) * Income_Increment_Rate / 100)\n",
    "        iExp[i] = (12 * Expense * (1 + (i - 1) * Inflation /\n",
    "                   100) + (Tax / 100) * iIncome[i])\n",
    "    else:\n",
    "        iExp[i] = 12 * Expense2 * (1 + (i - 1) * Inflation / 100)\n",
    "\n",
    "    if i == 1:\n",
    "        iSavings[i] = iSavings[i] + iIncome[i] - iExp[i];\n",
    "    else:\n",
    "        iSavings[i] = iSavings[i-1]+iIncome[i] - iExp[i];\n",
    "\n",
    "    iSavings_Interest[i] = (((iSavings[i]) * Savings_Return_Rate / 100) *\n",
    "                            (1 - Capital_Gains_Tax / 100))\n",
    "    iSavings[i] = iSavings[i] + iSavings_Interest[i]\n",
    "\n",
    "    if i == 30:\n",
    "        iSavings[i] = iSavings[i] + parentsHome * (1 + 30 * Inflation / 100)\n",
    "        \n",
    "years = np.linspace(0, 99, 100)\n",
    "plt.plot(years + 31, iIncome / 1000, label='Income')\n",
    "plt.plot(years + 31, iExp / 1000, label='Expense')\n",
    "plt.plot(years + 31, iSavings / 1000, label='Savings')\n",
    "plt.xlim([30, 90])\n",
    "plt.ylim([0, 600])\n",
    "plt.ylabel('1k USD')\n",
    "plt.xlabel('Age [Yrs]')\n",
    "plt.legend()\n",
    "# plt.savefig('savings_trajectory.png')\n",
    "# plt.close()"
   ]
  },
  {
   "cell_type": "code",
   "execution_count": 5,
   "metadata": {},
   "outputs": [],
   "source": []
  },
  {
   "cell_type": "code",
   "execution_count": 6,
   "metadata": {},
   "outputs": [
    {
     "data": {
      "text/plain": [
       "<matplotlib.legend.Legend at 0x1cad35a0760>"
      ]
     },
     "execution_count": 6,
     "metadata": {},
     "output_type": "execute_result"
    },
    {
     "data": {
      "image/png": "[encoded data removed]",
      "text/plain": [
       "<Figure size 432x288 with 1 Axes>"
      ]
     },
     "metadata": {
      "needs_background": "light"
     },
     "output_type": "display_data"
    }
   ],
   "source": []
  },
  {
   "cell_type": "code",
   "execution_count": 58,
   "metadata": {},
   "outputs": [],
   "source": [
    "def calculate_retirement_possibilities (Initial_Savings, Income,\n",
    "                                        Income_Increment_Rate, Expense,\n",
    "                                        Inflation, Tax, Savings_Return_Rate,\n",
    "                                        Capital_Gains_Tax, Expense2,\n",
    "                                        parentsHome):\n",
    "\n",
    "    Stop_Work_Year = np.linspace(0, 49, 50, dtype=int)\n",
    "    years = np.linspace(0, 199, 200, dtype=int)\n",
    "    Years_To_Live = np.zeros(50)\n",
    "    iiSavings = np.zeros(200)\n",
    "    iiIncome = np.zeros(200)\n",
    "    iiExp = np.zeros(200)\n",
    "    iiSavings_Interest = np.zeros(200)\n",
    "    for k in Stop_Work_Year:\n",
    "        iiSavings[0] = Initial_Savings\n",
    "        for i in years:\n",
    "            if i <= k:\n",
    "                iiIncome[i] = Income * ( 1 + (i - 1) * Income_Increment_Rate / 100)\n",
    "                iiExp[i] = 12 * Expense * (1 + (i - 1) * Inflation / 100) + (Tax / 100) * iiIncome[i]\n",
    "            else:\n",
    "                iiIncome[i]=0\n",
    "                iiExp[i] = 12 * Expense2 * (1 + (i - 1) * Inflation / 100)\n",
    "    \n",
    "            if i == 1:\n",
    "                iiSavings[i] = iiSavings[i] + iiIncome[i] - iiExp[i]\n",
    "            else:\n",
    "                iiSavings[i] = iiSavings[i - 1] + iiIncome[i] - iiExp[i]\n",
    "\n",
    "            iiSavings_Interest[i] = ((iiSavings[i]) * Savings_Return_Rate / 100) * (1 - Capital_Gains_Tax / 100)\n",
    "            iiSavings[i] = iiSavings[i] + iiSavings_Interest[i]\n",
    "\n",
    "            if i == 30:\n",
    "                iiSavings[i] = iiSavings[i] + parentsHome * (1 + 30 * Inflation / 100)\n",
    "    \n",
    "        Years_To_Live[k] = interp1d(iiSavings, years, fill_value='extrapolate')(1)\n",
    "\n",
    "    return Stop_Work_Year, Years_To_Live"
   ]
  },
  {
   "cell_type": "code",
   "execution_count": 59,
   "metadata": {},
   "outputs": [
    {
     "name": "stdout",
     "output_type": "stream",
     "text": [
      "Monthly Expense in Retirement City 2800 $\n",
      "(50,)\n",
      "(50,)\n",
      "No of Years to Work = 5.234210401569722\n"
     ]
    },
    {
     "data": {
      "image/png": "[encoded data removed]",
      "text/plain": [
       "<Figure size 432x288 with 1 Axes>"
      ]
     },
     "metadata": {
      "needs_background": "light"
     },
     "output_type": "display_data"
    }
   ],
   "source": [
    "Stop_Work_Year, Years_To_Live = calculate_retirement_possibilities(Initial_Savings,Income,Income_Increment_Rate,Expense,Inflation,Tax,Savings_Return_Rate,Capital_Gains_Tax,Expense2,parentsHome)\n",
    "print(''.join(['Monthly Expense in Retirement City ', str(Expense2), ' $']))\n",
    "\n",
    "plt.plot(Stop_Work_Year, 31 + Years_To_Live)\n",
    "plt.xlabel('Number of years of working from now')\n",
    "plt.ylabel('To what age you can live work free')\n",
    "plt.xlim([0,5])\n",
    "\n",
    "print(Years_To_Live.shape)\n",
    "print(Stop_Work_Year.shape)\n",
    "\n",
    "print(''.join(['No of Years to Work = ', str(interp1d(Years_To_Live, Stop_Work_Year, kind = 'linear', fill_value = 'extrapolate')(85-31))]))\n"
   ]
  },
  {
   "cell_type": "code",
   "execution_count": null,
   "metadata": {},
   "outputs": [],
   "source": []
  }
 ],
 "metadata": {
  "kernelspec": {
   "display_name": "Python 3",
   "language": "python",
   "name": "python3"
  },
  "language_info": {
   "codemirror_mode": {
    "name": "ipython",
    "version": 3
   },
   "file_extension": ".py",
   "mimetype": "text/x-python",
   "name": "python",
   "nbconvert_exporter": "python",
   "pygments_lexer": "ipython3",
   "version": "3.8.5"
  }
 },
 "nbformat": 4,
 "nbformat_minor": 5
}
