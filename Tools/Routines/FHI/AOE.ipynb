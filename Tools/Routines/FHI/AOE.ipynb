{
 "cells": [
  {
   "cell_type": "markdown",
   "metadata": {},
   "source": [
    "Here I attempt to use the aoe2.net api to extract the game lengths of online games."
   ]
  },
  {
   "cell_type": "code",
   "execution_count": 305,
   "metadata": {},
   "outputs": [
    {
     "name": "stdout",
     "output_type": "stream",
     "text": [
      "\n"
     ]
    }
   ],
   "source": [
    "api = 'https://aoe2.net';"
   ]
  },
  {
   "cell_type": "code",
   "execution_count": 306,
   "metadata": {},
   "outputs": [
    {
     "name": "stdout",
     "output_type": "stream",
     "text": [
      "\n"
     ]
    }
   ],
   "source": [
    "url = [api '/api/strings' '?game=aoe2hd'];\n",
    "options = weboptions('ContentType','json');\n",
    "info =  webread(url,options);"
   ]
  },
  {
   "cell_type": "code",
   "execution_count": 416,
   "metadata": {},
   "outputs": [
    {
     "name": "stdout",
     "output_type": "stream",
     "text": [
      "Created file 'C:\\Users\\nithin\\Documents\\GitHub\\energy-height-conversion\\Tools\\Routines\\FHI\\get_AOE_data.m'.\n"
     ]
    }
   ],
   "source": [
    "%%file get_AOE_data.m\n",
    "function data=get_AOE_data(startTime, endTime)\n",
    "    api = 'https://aoe2.net';\n",
    "    startT = posixtime(startTime);\n",
    "    endT   = posixtime(endTime);\n",
    "    iTime = startT;\n",
    "    k = 1;\n",
    "    while iTime<endT\n",
    "    url = [api '/api/matches' '?game=aoe2de&count=1000&since=',num2str(iTime)];\n",
    "    [~,temp1] = system(['curl -sX GET \"' url '\"']);\n",
    "    temp = jsondecode(temp1);\n",
    "%   options = weboptions('ContentType','json');\n",
    "%   temp = webread(url,options);\n",
    "     l = length(temp);\n",
    "     data(k:1:(k-1)+l) =  temp;\n",
    "     k = k+l;\n",
    "     iTime = data(end).finished;\n",
    "     disp([num2str(100*(1-(endT-iTime)./(endT-startT)),'%10.2f') '%']);\n",
    "    end\n",
    "end"
   ]
  },
  {
   "cell_type": "code",
   "execution_count": 417,
   "metadata": {},
   "outputs": [
    {
     "name": "stdout",
     "output_type": "stream",
     "text": [
      "\n"
     ]
    }
   ],
   "source": [
    "data1 = get_AOE_data(datetime('29-Nov-2020','ConvertFrom','DD-mmm-YYYY'),datetime('29-Nov-2020 10:00','ConvertFrom','DD-mmm-YYYY HH:MM'));"
   ]
  },
  {
   "cell_type": "code",
   "execution_count": 418,
   "metadata": {},
   "outputs": [
    {
     "name": "stdout",
     "output_type": "stream",
     "text": [
      "\n"
     ]
    }
   ],
   "source": [
    "TT = struct2table(data1);\n",
    "TT.leaderboard_id(cellfun(@isempty,TT.leaderboard_id))={nan};\n",
    "TT.leaderboard_id = cell2mat(TT.leaderboard_id);\n",
    "TT.duration = datetime(TT.finished,'ConvertFrom','posix')-datetime(TT.started,'ConvertFrom','posix');"
   ]
  },
  {
   "cell_type": "code",
   "execution_count": 434,
   "metadata": {},
   "outputs": [
    {
     "name": "stdout",
     "output_type": "stream",
     "text": [
      "\n"
     ]
    },
    {
     "data": {
      "image/png": "[encoded data removed]",
      "text/plain": [
       "<IPython.core.display.Image object>"
      ]
     },
     "metadata": {},
     "output_type": "display_data"
    }
   ],
   "source": [
    "%%plot inline\n",
    "ratingType = 2;\n",
    "Xh=histogram(minutes(TT.duration(TT.num_players==2 & TT.rating_type==ratingType )),'Normalization','pdf');\n",
    "xlabel('Game Duration [min]');\n",
    "ylabel('Number of games');\n",
    "text(0.75,0.75,[num2str(sum(TT.num_players==2 & TT.rating_type==ratingType)) ' Games'],'Units','normalized');\n",
    "Xy = Xh.Values;\n",
    "Xx =  Xh.BinEdges(1:end-1)+Xh.BinWidth/2;\n",
    "fitfun = fittype(@(a,x) a.*exp(-a.*x));\n",
    "r0 = 0.1;\n",
    "[Xy_fit, gof] = fit(Xx',Xy',fitfun,'StartPoint',r0);\n",
    "hold on;\n",
    "plot(Xx,Xy_fit(Xx),'g');"
   ]
  },
  {
   "cell_type": "code",
   "execution_count": 436,
   "metadata": {},
   "outputs": [
    {
     "name": "stdout",
     "output_type": "stream",
     "text": [
      "\n",
      "gof = \n",
      "\n",
      "  struct with fields:\n",
      "\n",
      "           sse: 0.0039\n",
      "       rsquare: 0.3139\n",
      "           dfe: 33\n",
      "    adjrsquare: 0.3139\n",
      "          rmse: 0.0109\n",
      "\n",
      "\n"
     ]
    }
   ],
   "source": [
    "gof"
   ]
  },
  {
   "cell_type": "code",
   "execution_count": 410,
   "metadata": {},
   "outputs": [
    {
     "name": "stdout",
     "output_type": "stream",
     "text": [
      "\n",
      "ans = \n",
      "\n",
      "  struct with fields:\n",
      "\n",
      "       profile_id: 3364313\n",
      "         steam_id: '76561199037075126'\n",
      "             name: '19jhess'\n",
      "             clan: []\n",
      "          country: 'US'\n",
      "             slot: 2\n",
      "        slot_type: 1\n",
      "           rating: 1000\n",
      "    rating_change: 0\n",
      "            games: []\n",
      "             wins: []\n",
      "           streak: []\n",
      "            drops: []\n",
      "            color: 6\n",
      "             team: 1\n",
      "              civ: 29\n",
      "              won: 1\n",
      "\n",
      "\n"
     ]
    }
   ],
   "source": [
    "test=TT.players{strcmp(TT.match_id,'52016732')};\n",
    "test(2)"
   ]
  },
  {
   "cell_type": "code",
   "execution_count": 1,
   "metadata": {},
   "outputs": [
    {
     "name": "stderr",
     "output_type": "stream",
     "text": [
      "\u001b[1;31mUndefined function or variable 'Xy_fit'.\n",
      "\n",
      "\u001b[0m"
     ]
    },
    {
     "ename": "Error",
     "evalue": -1,
     "output_type": "error",
     "traceback": "Undefined function or variable 'Xy_fit'.\n"
    }
   ],
   "source": []
  }
 ],
 "metadata": {
  "kernelspec": {
   "display_name": "Matlab",
   "language": "matlab",
   "name": "matlab"
  },
  "language_info": {
   "codemirror_mode": "octave",
   "file_extension": ".m",
   "help_links": [
    {
     "text": "MetaKernel Magics",
     "url": "https://metakernel.readthedocs.io/en/latest/source/README.html"
    }
   ],
   "mimetype": "text/x-octave",
   "name": "matlab",
   "version": "0.16.11"
  }
 },
 "nbformat": 4,
 "nbformat_minor": 4
}
